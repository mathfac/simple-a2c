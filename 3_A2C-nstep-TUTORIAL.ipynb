{
 "cells": [
  {
   "cell_type": "code",
   "execution_count": 2,
   "metadata": {},
   "outputs": [],
   "source": [
    "import gym\n",
    "import os\n",
    "import numpy as np\n",
    "import matplotlib.pyplot as plt\n",
    "\n",
    "import torch\n",
    "import torch.nn as nn\n",
    "import torch.nn.functional as F\n",
    "import torch.optim as optim\n",
    "import torch.autograd as autograd\n",
    "from torch.autograd import Variable"
   ]
  },
  {
   "cell_type": "markdown",
   "metadata": {},
   "source": [
    "Simple A2C--Code\n",
    "\n",
    "This is a simple implementation of an Actor-Advantage-Critic (A2C) model. For an intuitive guide to the mechanics of the model itself please check out the comic in this repository. \n",
    "\n",
    "To keep things clear, we're using an easy challenge--Cartpole--and have pruned the A2C to only the necessary bits, sacrificing a bit of performance. We're building an n-step A2C with a single agent that takes in a simple Cartpole state as 4 float values, but notebooks for a Monte Carlo, multiple parallel agents, and raw pixels versions are in this directory as well. For a more industrial-strength A2C, check out our PyTorch implementation of the OpenAI Baselines A2C."
   ]
  },
  {
   "cell_type": "markdown",
   "metadata": {},
   "source": [
    "The Model\n",
    "\n",
    "This is a modular unit that can be swapped for any other input-output mapping machine--another ML model, a lookup table, etc. When we upgrade the N-step model to accept pixels in a later notebook, all we have to do is swap out this fully-connected NN for a CNN."
   ]
  },
  {
   "cell_type": "code",
   "execution_count": 5,
   "metadata": {},
   "outputs": [],
   "source": [
    "class ActorCritic(nn.Module):\n",
    "    def __init__(self):\n",
    "        super(ActorCritic, self).__init__()\n",
    "        self.linear1 = nn.Linear(N_INPUTS, 64)\n",
    "        self.linear2 = nn.Linear(64, 128)\n",
    "        self.linear3 = nn.Linear(128, 64)\n",
    "        \n",
    "        self.actor = nn.Linear(64, N_ACTIONS)\n",
    "        self.critic = nn.Linear(64, 1)\n",
    "    \n",
    "    # In a PyTorch model, you only have to define the forward pass. PyTorch computes the backwards pass for you!\n",
    "    def forward(self, x):\n",
    "        x = self.linear1(x)\n",
    "        x = F.relu(x)\n",
    "        x = self.linear2(x)\n",
    "        x = F.relu(x)\n",
    "        x = self.linear3(x)\n",
    "        x = F.relu(x) \n",
    "        return x\n",
    "    \n",
    "    # Only the Actor head\n",
    "    def get_action_probs(self, x):\n",
    "        x = self(x)\n",
    "        action_probs = F.softmax(self.actor(x))\n",
    "        return action_probs\n",
    "    \n",
    "    # Only the Critic head\n",
    "    def get_state_value(self, x):\n",
    "        x = self(x)\n",
    "        state_value = self.critic(x)\n",
    "        return state_value\n",
    "    \n",
    "    # Both heads\n",
    "    def evaluate_actions(self, x):\n",
    "        x = self(x)\n",
    "        action_probs = F.softmax(self.actor(x))\n",
    "        state_values = self.critic(x)\n",
    "        return action_probs, state_values  "
   ]
  },
  {
   "cell_type": "code",
   "execution_count": 63,
   "metadata": {
    "scrolled": true
   },
   "outputs": [
    {
     "name": "stdout",
     "output_type": "stream",
     "text": [
      "N_INPUTS  4\n",
      "N_ACTIONS  2\n"
     ]
    }
   ],
   "source": [
    "# Discount factor. Model is not very sensitive to this value.\n",
    "GAMMA = .95\n",
    "\n",
    "# LR of 3e-2 explodes the gradients, LR of 3e-4 trains slower\n",
    "LR = 3e-3\n",
    "N_GAMES = 2000\n",
    "\n",
    "# OpenAI baselines uses nstep of 5.\n",
    "N_STEPS = 20\n",
    "\n",
    "env = gym.make('CartPole-v0')\n",
    "N_INPUTS = env.observation_space.shape[0] # 4\n",
    "N_ACTIONS = env.action_space.n # 2\n",
    "\n",
    "model = ActorCritic()\n",
    "optimizer = optim.Adam(model.parameters(), lr=LR)    "
   ]
  },
  {
   "cell_type": "markdown",
   "metadata": {},
   "source": [
    "The training loop:\n",
    "\n",
    "There are two parts to the training loop. First, we gather a minibatch of training data by moving around the environment. Once we've filled out a minibatch, we stop and reflect. "
   ]
  },
  {
   "cell_type": "code",
   "execution_count": 62,
   "metadata": {
    "scrolled": true
   },
   "outputs": [
    {
     "name": "stderr",
     "output_type": "stream",
     "text": [
      "/Users/maksymets/Projects/fair/rl_workshop/rl/lib/python3.7/site-packages/ipykernel_launcher.py:24: UserWarning: Implicit dimension choice for softmax has been deprecated. Change the call to include dim=X as an argument.\n",
      "/Users/maksymets/Projects/fair/rl_workshop/rl/lib/python3.7/site-packages/ipykernel_launcher.py:36: UserWarning: Implicit dimension choice for softmax has been deprecated. Change the call to include dim=X as an argument.\n",
      "/Users/maksymets/Projects/fair/rl_workshop/rl/lib/python3.7/site-packages/ipykernel_launcher.py:22: UserWarning: torch.nn.utils.clip_grad_norm is now deprecated in favor of torch.nn.utils.clip_grad_norm_.\n"
     ]
    },
    {
     "name": "stdout",
     "output_type": "stream",
     "text": [
      "The model is trained.\n"
     ]
    }
   ],
   "source": [
    "state = env.reset()\n",
    "finished_games = 0\n",
    "\n",
    "while finished_games < N_GAMES:\n",
    "    states, actions, rewards, dones = [], [], [], []\n",
    "\n",
    "    # Gather training data\n",
    "    for i in range(N_STEPS):\n",
    "        s = Variable(torch.from_numpy(state).float().unsqueeze(0))\n",
    "\n",
    "        action_probs = model.get_action_probs(s)\n",
    "        action = action_probs.multinomial(num_samples=1).data[0][0].item()\n",
    "        next_state, reward, done, _ = env.step(action)\n",
    "        states.append(state); actions.append(action); rewards.append(reward); dones.append(done)\n",
    "\n",
    "        if done: state = env.reset(); finished_games += 1\n",
    "        else: state = next_state\n",
    "\n",
    "    # Reflect on training data\n",
    "    reflect(states, actions, rewards, dones)\n",
    "print(\"The model is trained.\")"
   ]
  },
  {
   "cell_type": "markdown",
   "metadata": {},
   "source": [
    "The cell above contains everything. Now we'll go through and look at the individual parts of it."
   ]
  },
  {
   "cell_type": "markdown",
   "metadata": {},
   "source": [
    "1) Gather training data\n",
    "The agent moves around the environment gathering training data. Notice that we’re using the only Policy head of the model to help us choose actions but we’re not reflecting on anything yet. The model is being used purely for inference.\n",
    "\n",
    "What does the training data look like? In the MC case the size of the minibatch fed into the model would be equal to the length of the episode. In the case of N-Step, however, we’ll gather the same amount of training data for each minibatch. A 5-step model always deals in minibatches of 5 observations"
   ]
  },
  {
   "cell_type": "code",
   "execution_count": null,
   "metadata": {},
   "outputs": [],
   "source": [
    "#Pic of normal 5 steps with no failure. Well-trained."
   ]
  },
  {
   "cell_type": "markdown",
   "metadata": {},
   "source": [
    "If the episode ends in the middle of a set we simply start a new game and keep playing. "
   ]
  },
  {
   "cell_type": "code",
   "execution_count": null,
   "metadata": {},
   "outputs": [],
   "source": [
    "#Pic of minibatch with failure in the middle."
   ]
  },
  {
   "cell_type": "markdown",
   "metadata": {},
   "source": [
    "2) Reflect on training data\n",
    "\n",
    "Now that our model has gathered its training data, it’s time to reflect\n",
    "\n",
    "Calculate true values\n",
    "\n",
    "First, we need to calculate what the returns from each state ACTUALLY turned out to be. These will be the labels we use to train the critic. \n",
    "\n",
    "Let's check out what these would look like in the MC case:"
   ]
  },
  {
   "cell_type": "code",
   "execution_count": null,
   "metadata": {},
   "outputs": [],
   "source": [
    "#pic of MC returns"
   ]
  },
  {
   "cell_type": "markdown",
   "metadata": {},
   "source": [
    "What do the returns look like in the NSTEP case? Instead of backing up from a terminal state where we know the value is zero (like in a MC model), we’ll have to back up from an estimate of the value of the last state in our set. "
   ]
  },
  {
   "cell_type": "code",
   "execution_count": null,
   "metadata": {},
   "outputs": [],
   "source": [
    "#Pic of df backing up from bootstrapped v(s). Note that last value is an estimate."
   ]
  },
  {
   "cell_type": "markdown",
   "metadata": {},
   "source": [
    "This model is already well-trained. Notice how the predicted v(s) nicely tracks the actual v(s)s. We can test the accuracy of our bootstrapped v(s) by checking it against the actual returns from the first row of data in the next minibatch. In an untrained model, predicted v(s) would be way off.\n",
    "\n",
    "How do we calculate these true state values? We start from the end and work our way backwards."
   ]
  },
  {
   "cell_type": "code",
   "execution_count": 6,
   "metadata": {},
   "outputs": [],
   "source": [
    "def calc_actual_state_values(rewards, dones):\n",
    "    R = []\n",
    "    rewards.reverse()\n",
    "    dones.reverse()\n",
    "\n",
    "    # If we happen to end the set on a terminal state, set next return to zero\n",
    "    if dones[0] == True: next_return = 0\n",
    "        \n",
    "    # If not terminal state, bootstrap v(s) using our critic\n",
    "    else: \n",
    "        s = torch.from_numpy(states[-1]).float().unsqueeze(0)\n",
    "        next_return = model.get_state_value(Variable(s)).data[0][0] \n",
    "    \n",
    "    # Backup from last state to calculate \"true\" returns for each state in the set\n",
    "    R.append(next_return)\n",
    "    \n",
    "    for r in range(1, len(rewards)):\n",
    "        if not dones[r]: this_return = rewards[r] + next_return * GAMMA\n",
    "        else: this_return = 0\n",
    "        R.append(this_return)\n",
    "        next_return = this_return\n",
    "\n",
    "    R.reverse()\n",
    "    state_values_true = Variable(torch.FloatTensor(R)).unsqueeze(1)\n",
    "    \n",
    "    return state_values_true"
   ]
  },
  {
   "cell_type": "markdown",
   "metadata": {},
   "source": [
    "Just a classic regression problem\n",
    "\n",
    "Once we have labels for our minibatch of training data, we treat it like we would any other supervised learning problem. We calculate the loss and backpropagate it through the model.\n",
    "\n",
    "Our first step is to send our states as input into the NN. In return we get a list of state value predictions and a list of action recommendations. We use these, along with our lists of bootstrapped target state values and actual actions taken to compute the advantage / TD error. "
   ]
  },
  {
   "cell_type": "code",
   "execution_count": 7,
   "metadata": {},
   "outputs": [],
   "source": [
    "def reflect(states, actions, rewards, dones):\n",
    "    \n",
    "    # Calculating the ground truth \"labels\" as described above\n",
    "    state_values_true = calc_actual_state_values(rewards, dones)\n",
    "\n",
    "    s = Variable(torch.FloatTensor(states))\n",
    "    action_probs, state_values_est = model.evaluate_actions(s)\n",
    "    action_log_probs = action_probs.log() \n",
    "    \n",
    "    a = Variable(torch.LongTensor(actions).view(-1, 1))\n",
    "    chosen_action_log_probs = action_log_probs.gather(1, a)\n",
    "\n",
    "    advantages = state_values_true - state_values_est\n",
    "\n",
    "    entropy = (action_probs * action_log_probs).sum(1).mean()\n",
    "    action_gain = (chosen_action_log_probs * advantages).mean()\n",
    "    value_loss = advantages.pow(2).mean()\n",
    "    total_loss = value_loss - action_gain - 0.0001 * entropy\n",
    "\n",
    "    optimizer.zero_grad()\n",
    "    total_loss.backward()\n",
    "    nn.utils.clip_grad_norm_(model.parameters(), 0.5)\n",
    "    optimizer.step()"
   ]
  },
  {
   "cell_type": "markdown",
   "metadata": {},
   "source": [
    "How does the model actually train? Let's watch its score over 1000 games. This takes about 30 seconds on a consumer laptop."
   ]
  },
  {
   "cell_type": "code",
   "execution_count": 64,
   "metadata": {},
   "outputs": [],
   "source": [
    "def test_model(model):\n",
    "    score = 0\n",
    "    done = False\n",
    "    env = gym.make('CartPole-v0')\n",
    "    state = env.reset()\n",
    "    global action_probs\n",
    "    while not done:\n",
    "        score += 1\n",
    "        s = torch.from_numpy(state).float().unsqueeze(0)\n",
    "        \n",
    "        action_probs = model.get_action_probs(Variable(s))\n",
    "        \n",
    "        _, action_index = action_probs.max(1)\n",
    "        action = action_index.item()\n",
    "        next_state, reward, done, thing = env.step(action)\n",
    "        state = next_state\n",
    "    return score"
   ]
  },
  {
   "cell_type": "code",
   "execution_count": 65,
   "metadata": {},
   "outputs": [
    {
     "name": "stderr",
     "output_type": "stream",
     "text": [
      "/Users/maksymets/Projects/fair/rl_workshop/rl/lib/python3.7/site-packages/ipykernel_launcher.py:24: UserWarning: Implicit dimension choice for softmax has been deprecated. Change the call to include dim=X as an argument.\n"
     ]
    },
    {
     "data": {
      "text/plain": [
       "9"
      ]
     },
     "execution_count": 65,
     "metadata": {},
     "output_type": "execute_result"
    }
   ],
   "source": [
    "test_model(model)"
   ]
  },
  {
   "cell_type": "markdown",
   "metadata": {},
   "source": [
    "There are a number of improvements that we can make to this model:\n",
    "\n",
    "--You'll notice that after reaching a perfect score of 200, the model's performance fluctuates wildly. We can fix this by only training on episodes where a failure occured--perfect games have no training signal bc returns for all states are identical. \n",
    "\n",
    "-- Further limiting our training to only those frames directly before a failure seems to speed training as well (more work required here), perhaps because we're downsampling \"uninteresting\" observations that have no variation in returns. \n",
    "\n",
    "-- We're not recording our scores or losses throughout training. Other versions in this repo chart progress.\n",
    "\n",
    "-- We haven't experimented with other step sizes, which significantly affect training. Other a2cs in this repo show experiments along these lines\n",
    "\n",
    "-- We haven't added in multiple actors, whichs help by decorrelating training data"
   ]
  },
  {
   "cell_type": "code",
   "execution_count": null,
   "metadata": {},
   "outputs": [],
   "source": []
  },
  {
   "cell_type": "code",
   "execution_count": null,
   "metadata": {},
   "outputs": [],
   "source": []
  },
  {
   "cell_type": "code",
   "execution_count": null,
   "metadata": {},
   "outputs": [],
   "source": []
  }
 ],
 "metadata": {
  "kernelspec": {
   "display_name": "Python 3",
   "language": "python",
   "name": "python3"
  },
  "language_info": {
   "codemirror_mode": {
    "name": "ipython",
    "version": 3
   },
   "file_extension": ".py",
   "mimetype": "text/x-python",
   "name": "python",
   "nbconvert_exporter": "python",
   "pygments_lexer": "ipython3",
   "version": "3.7.0"
  }
 },
 "nbformat": 4,
 "nbformat_minor": 2
}
